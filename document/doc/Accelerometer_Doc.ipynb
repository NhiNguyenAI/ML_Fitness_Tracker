{
 "cells": [
  {
   "cell_type": "markdown",
   "metadata": {},
   "source": [
    "**Accelerometer** measures acceleration forces, typically represented in G-forces (g). One G-force is equal to 9.8 m/s², the standard acceleration due to gravity on Earth.\n",
    "\n",
    "**Gyroscope** measures angular velocity in degrees/second. This indicates how fast an object is rotating around its axes.\n",
    "\n",
    "\n",
    "\n",
    "The axes (X, Y, Z) represent directional measurements relative to the device.\n",
    "\n",
    "---\n",
    "1. Accelerometer data measured in G-forces (g).\n",
    "\n",
    "![Accelerometer](./image/accelerometer_1.jpg)\n",
    "\n",
    "2. Gyroscope data measured in degrees/second\n",
    "\n",
    "![Gyroscope Data](./image/accelerometer_2.jpg)"
   ]
  }
 ],
 "metadata": {
  "language_info": {
   "name": "python"
  }
 },
 "nbformat": 4,
 "nbformat_minor": 2
}
